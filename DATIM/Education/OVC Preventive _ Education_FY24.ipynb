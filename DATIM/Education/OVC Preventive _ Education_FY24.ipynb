{
  "cells": [
    {
      "cell_type": "markdown",
      "id": "08b8035d",
      "metadata": {
        "id": "08b8035d"
      },
      "source": [
        "# Rapport Education"
      ]
    },
    {
      "cell_type": "markdown",
      "id": "031ece2d",
      "metadata": {
        "id": "031ece2d"
      },
      "source": [
        "### Dates setting"
      ]
    },
    {
      "cell_type": "code",
      "execution_count": 1,
      "id": "409ec844",
      "metadata": {
        "id": "409ec844"
      },
      "outputs": [],
      "source": [
        "start_date = \"2023-10-01\"\n",
        "end_date = \"2024-03-31\""
      ]
    },
    {
      "cell_type": "code",
      "source": [
        "! pip install python-dotenv\n",
        "! pip install selenium\n",
        "! pip install webdriver-manager\n",
        "! pip install openpyxl"
      ],
      "metadata": {
        "id": "PpD6S_6iSq77",
        "outputId": "f8d51bc2-c125-4389-8ed7-a1360f39855d",
        "colab": {
          "base_uri": "https://localhost:8080/"
        }
      },
      "id": "PpD6S_6iSq77",
      "execution_count": 4,
      "outputs": [
        {
          "output_type": "stream",
          "name": "stdout",
          "text": [
            "Requirement already satisfied: python-dotenv in /usr/local/lib/python3.10/dist-packages (1.0.1)\n",
            "Collecting selenium\n",
            "  Downloading selenium-4.27.1-py3-none-any.whl.metadata (7.1 kB)\n",
            "Requirement already satisfied: urllib3<3,>=1.26 in /usr/local/lib/python3.10/dist-packages (from urllib3[socks]<3,>=1.26->selenium) (2.2.3)\n",
            "Collecting trio~=0.17 (from selenium)\n",
            "  Downloading trio-0.27.0-py3-none-any.whl.metadata (8.6 kB)\n",
            "Collecting trio-websocket~=0.9 (from selenium)\n",
            "  Downloading trio_websocket-0.11.1-py3-none-any.whl.metadata (4.7 kB)\n",
            "Requirement already satisfied: certifi>=2021.10.8 in /usr/local/lib/python3.10/dist-packages (from selenium) (2024.8.30)\n",
            "Requirement already satisfied: typing_extensions~=4.9 in /usr/local/lib/python3.10/dist-packages (from selenium) (4.12.2)\n",
            "Requirement already satisfied: websocket-client~=1.8 in /usr/local/lib/python3.10/dist-packages (from selenium) (1.8.0)\n",
            "Requirement already satisfied: attrs>=23.2.0 in /usr/local/lib/python3.10/dist-packages (from trio~=0.17->selenium) (24.2.0)\n",
            "Collecting sortedcontainers (from trio~=0.17->selenium)\n",
            "  Downloading sortedcontainers-2.4.0-py2.py3-none-any.whl.metadata (10 kB)\n",
            "Requirement already satisfied: idna in /usr/local/lib/python3.10/dist-packages (from trio~=0.17->selenium) (3.10)\n",
            "Collecting outcome (from trio~=0.17->selenium)\n",
            "  Downloading outcome-1.3.0.post0-py2.py3-none-any.whl.metadata (2.6 kB)\n",
            "Requirement already satisfied: sniffio>=1.3.0 in /usr/local/lib/python3.10/dist-packages (from trio~=0.17->selenium) (1.3.1)\n",
            "Requirement already satisfied: exceptiongroup in /usr/local/lib/python3.10/dist-packages (from trio~=0.17->selenium) (1.2.2)\n",
            "Collecting wsproto>=0.14 (from trio-websocket~=0.9->selenium)\n",
            "  Downloading wsproto-1.2.0-py3-none-any.whl.metadata (5.6 kB)\n",
            "Requirement already satisfied: pysocks!=1.5.7,<2.0,>=1.5.6 in /usr/local/lib/python3.10/dist-packages (from urllib3[socks]<3,>=1.26->selenium) (1.7.1)\n",
            "Requirement already satisfied: h11<1,>=0.9.0 in /usr/local/lib/python3.10/dist-packages (from wsproto>=0.14->trio-websocket~=0.9->selenium) (0.14.0)\n",
            "Downloading selenium-4.27.1-py3-none-any.whl (9.7 MB)\n",
            "\u001b[2K   \u001b[90m━━━━━━━━━━━━━━━━━━━━━━━━━━━━━━━━━━━━━━━━\u001b[0m \u001b[32m9.7/9.7 MB\u001b[0m \u001b[31m77.7 MB/s\u001b[0m eta \u001b[36m0:00:00\u001b[0m\n",
            "\u001b[?25hDownloading trio-0.27.0-py3-none-any.whl (481 kB)\n",
            "\u001b[2K   \u001b[90m━━━━━━━━━━━━━━━━━━━━━━━━━━━━━━━━━━━━━━━━\u001b[0m \u001b[32m481.7/481.7 kB\u001b[0m \u001b[31m30.3 MB/s\u001b[0m eta \u001b[36m0:00:00\u001b[0m\n",
            "\u001b[?25hDownloading trio_websocket-0.11.1-py3-none-any.whl (17 kB)\n",
            "Downloading wsproto-1.2.0-py3-none-any.whl (24 kB)\n",
            "Downloading outcome-1.3.0.post0-py2.py3-none-any.whl (10 kB)\n",
            "Downloading sortedcontainers-2.4.0-py2.py3-none-any.whl (29 kB)\n",
            "Installing collected packages: sortedcontainers, wsproto, outcome, trio, trio-websocket, selenium\n",
            "Successfully installed outcome-1.3.0.post0 selenium-4.27.1 sortedcontainers-2.4.0 trio-0.27.0 trio-websocket-0.11.1 wsproto-1.2.0\n",
            "Collecting webdriver-manager\n",
            "  Downloading webdriver_manager-4.0.2-py2.py3-none-any.whl.metadata (12 kB)\n",
            "Requirement already satisfied: requests in /usr/local/lib/python3.10/dist-packages (from webdriver-manager) (2.32.3)\n",
            "Requirement already satisfied: python-dotenv in /usr/local/lib/python3.10/dist-packages (from webdriver-manager) (1.0.1)\n",
            "Requirement already satisfied: packaging in /usr/local/lib/python3.10/dist-packages (from webdriver-manager) (24.2)\n",
            "Requirement already satisfied: charset-normalizer<4,>=2 in /usr/local/lib/python3.10/dist-packages (from requests->webdriver-manager) (3.4.0)\n",
            "Requirement already satisfied: idna<4,>=2.5 in /usr/local/lib/python3.10/dist-packages (from requests->webdriver-manager) (3.10)\n",
            "Requirement already satisfied: urllib3<3,>=1.21.1 in /usr/local/lib/python3.10/dist-packages (from requests->webdriver-manager) (2.2.3)\n",
            "Requirement already satisfied: certifi>=2017.4.17 in /usr/local/lib/python3.10/dist-packages (from requests->webdriver-manager) (2024.8.30)\n",
            "Downloading webdriver_manager-4.0.2-py2.py3-none-any.whl (27 kB)\n",
            "Installing collected packages: webdriver-manager\n",
            "Successfully installed webdriver-manager-4.0.2\n",
            "Requirement already satisfied: openpyxl in /usr/local/lib/python3.10/dist-packages (3.1.5)\n",
            "Requirement already satisfied: et-xmlfile in /usr/local/lib/python3.10/dist-packages (from openpyxl) (2.0.0)\n"
          ]
        }
      ]
    },
    {
      "cell_type": "markdown",
      "id": "b155cbba",
      "metadata": {
        "id": "b155cbba"
      },
      "source": [
        "### Import packages"
      ]
    },
    {
      "cell_type": "code",
      "execution_count": 5,
      "id": "92c87159",
      "metadata": {
        "id": "92c87159"
      },
      "outputs": [],
      "source": [
        "import pandas as pd\n",
        "import numpy as np\n",
        "from datetime import datetime\n",
        "from dateutil.relativedelta import relativedelta\n",
        "from dateutil.parser import parse\n",
        "import warnings\n",
        "warnings.filterwarnings('ignore')\n",
        "from dateutil.parser import parse\n",
        "from selenium import webdriver\n",
        "from selenium.webdriver.chrome.options import Options\n",
        "from selenium.webdriver.common.by import By\n",
        "from webdriver_manager.chrome import ChromeDriverManager\n",
        "import time\n",
        "from IPython.core.interactiveshell import InteractiveShell\n",
        "InteractiveShell.ast_node_interactivity = 'all'\n",
        "import os\n",
        "from dotenv import load_dotenv\n",
        "import plotly.express as px\n",
        "import openpyxl"
      ]
    },
    {
      "cell_type": "markdown",
      "id": "59325f45",
      "metadata": {
        "id": "59325f45"
      },
      "source": [
        "### Download files from Commcare"
      ]
    },
    {
      "cell_type": "code",
      "execution_count": 7,
      "id": "43a35d90",
      "metadata": {
        "id": "43a35d90",
        "outputId": "2b7b8a1f-0952-4b8c-c614-2246d2847dff",
        "colab": {
          "base_uri": "https://localhost:8080/",
          "height": 703
        }
      },
      "outputs": [
        {
          "output_type": "execute_result",
          "data": {
            "text/plain": [
              "False"
            ]
          },
          "metadata": {},
          "execution_count": 7
        },
        {
          "output_type": "error",
          "ename": "SessionNotCreatedException",
          "evalue": "Message: session not created: Chrome failed to start: exited normally.\n  (session not created: DevToolsActivePort file doesn't exist)\n  (The process started from chrome location /root/.cache/selenium/chrome/linux64/131.0.6778.87/chrome is no longer running, so ChromeDriver is assuming that Chrome has crashed.)\nStacktrace:\n#0 0x5c2c8da9234a <unknown>\n#1 0x5c2c8d5a86e0 <unknown>\n#2 0x5c2c8d5dfdc8 <unknown>\n#3 0x5c2c8d5db926 <unknown>\n#4 0x5c2c8d6276f6 <unknown>\n#5 0x5c2c8d626d46 <unknown>\n#6 0x5c2c8d61b203 <unknown>\n#7 0x5c2c8d5e9cc0 <unknown>\n#8 0x5c2c8d5eac9e <unknown>\n#9 0x5c2c8da5fd3b <unknown>\n#10 0x5c2c8da63cc2 <unknown>\n#11 0x5c2c8da4cb6c <unknown>\n#12 0x5c2c8da64837 <unknown>\n#13 0x5c2c8da3210f <unknown>\n#14 0x5c2c8da815a8 <unknown>\n#15 0x5c2c8da81770 <unknown>\n#16 0x5c2c8da911c6 <unknown>\n#17 0x7b00b7175ac3 <unknown>\n",
          "traceback": [
            "\u001b[0;31m---------------------------------------------------------------------------\u001b[0m",
            "\u001b[0;31mSessionNotCreatedException\u001b[0m                Traceback (most recent call last)",
            "\u001b[0;32m<ipython-input-7-5ad5647ed40f>\u001b[0m in \u001b[0;36m<cell line: 9>\u001b[0;34m()\u001b[0m\n\u001b[1;32m      7\u001b[0m \u001b[0moptions\u001b[0m \u001b[0;34m=\u001b[0m \u001b[0mOptions\u001b[0m\u001b[0;34m(\u001b[0m\u001b[0;34m)\u001b[0m\u001b[0;34m\u001b[0m\u001b[0;34m\u001b[0m\u001b[0m\n\u001b[1;32m      8\u001b[0m \u001b[0moptions\u001b[0m\u001b[0;34m.\u001b[0m\u001b[0madd_argument\u001b[0m\u001b[0;34m(\u001b[0m\u001b[0;34m\"start-maximized\"\u001b[0m\u001b[0;34m)\u001b[0m\u001b[0;34m\u001b[0m\u001b[0;34m\u001b[0m\u001b[0m\n\u001b[0;32m----> 9\u001b[0;31m \u001b[0mdriver\u001b[0m \u001b[0;34m=\u001b[0m \u001b[0mwebdriver\u001b[0m\u001b[0;34m.\u001b[0m\u001b[0mChrome\u001b[0m\u001b[0;34m(\u001b[0m\u001b[0moptions\u001b[0m\u001b[0;34m=\u001b[0m\u001b[0moptions\u001b[0m\u001b[0;34m)\u001b[0m\u001b[0;34m\u001b[0m\u001b[0;34m\u001b[0m\u001b[0m\n\u001b[0m\u001b[1;32m     10\u001b[0m \u001b[0mdriver\u001b[0m\u001b[0;34m.\u001b[0m\u001b[0mimplicitly_wait\u001b[0m\u001b[0;34m(\u001b[0m\u001b[0;36m1000\u001b[0m\u001b[0;34m)\u001b[0m\u001b[0;34m\u001b[0m\u001b[0;34m\u001b[0m\u001b[0m\n\u001b[1;32m     11\u001b[0m \u001b[0;34m\u001b[0m\u001b[0m\n",
            "\u001b[0;32m/usr/local/lib/python3.10/dist-packages/selenium/webdriver/chrome/webdriver.py\u001b[0m in \u001b[0;36m__init__\u001b[0;34m(self, options, service, keep_alive)\u001b[0m\n\u001b[1;32m     43\u001b[0m         \u001b[0moptions\u001b[0m \u001b[0;34m=\u001b[0m \u001b[0moptions\u001b[0m \u001b[0;32mif\u001b[0m \u001b[0moptions\u001b[0m \u001b[0;32melse\u001b[0m \u001b[0mOptions\u001b[0m\u001b[0;34m(\u001b[0m\u001b[0;34m)\u001b[0m\u001b[0;34m\u001b[0m\u001b[0;34m\u001b[0m\u001b[0m\n\u001b[1;32m     44\u001b[0m \u001b[0;34m\u001b[0m\u001b[0m\n\u001b[0;32m---> 45\u001b[0;31m         super().__init__(\n\u001b[0m\u001b[1;32m     46\u001b[0m             \u001b[0mbrowser_name\u001b[0m\u001b[0;34m=\u001b[0m\u001b[0mDesiredCapabilities\u001b[0m\u001b[0;34m.\u001b[0m\u001b[0mCHROME\u001b[0m\u001b[0;34m[\u001b[0m\u001b[0;34m\"browserName\"\u001b[0m\u001b[0;34m]\u001b[0m\u001b[0;34m,\u001b[0m\u001b[0;34m\u001b[0m\u001b[0;34m\u001b[0m\u001b[0m\n\u001b[1;32m     47\u001b[0m             \u001b[0mvendor_prefix\u001b[0m\u001b[0;34m=\u001b[0m\u001b[0;34m\"goog\"\u001b[0m\u001b[0;34m,\u001b[0m\u001b[0;34m\u001b[0m\u001b[0;34m\u001b[0m\u001b[0m\n",
            "\u001b[0;32m/usr/local/lib/python3.10/dist-packages/selenium/webdriver/chromium/webdriver.py\u001b[0m in \u001b[0;36m__init__\u001b[0;34m(self, browser_name, vendor_prefix, options, service, keep_alive)\u001b[0m\n\u001b[1;32m     64\u001b[0m \u001b[0;34m\u001b[0m\u001b[0m\n\u001b[1;32m     65\u001b[0m         \u001b[0;32mtry\u001b[0m\u001b[0;34m:\u001b[0m\u001b[0;34m\u001b[0m\u001b[0;34m\u001b[0m\u001b[0m\n\u001b[0;32m---> 66\u001b[0;31m             \u001b[0msuper\u001b[0m\u001b[0;34m(\u001b[0m\u001b[0;34m)\u001b[0m\u001b[0;34m.\u001b[0m\u001b[0m__init__\u001b[0m\u001b[0;34m(\u001b[0m\u001b[0mcommand_executor\u001b[0m\u001b[0;34m=\u001b[0m\u001b[0mexecutor\u001b[0m\u001b[0;34m,\u001b[0m \u001b[0moptions\u001b[0m\u001b[0;34m=\u001b[0m\u001b[0moptions\u001b[0m\u001b[0;34m)\u001b[0m\u001b[0;34m\u001b[0m\u001b[0;34m\u001b[0m\u001b[0m\n\u001b[0m\u001b[1;32m     67\u001b[0m         \u001b[0;32mexcept\u001b[0m \u001b[0mException\u001b[0m\u001b[0;34m:\u001b[0m\u001b[0;34m\u001b[0m\u001b[0;34m\u001b[0m\u001b[0m\n\u001b[1;32m     68\u001b[0m             \u001b[0mself\u001b[0m\u001b[0;34m.\u001b[0m\u001b[0mquit\u001b[0m\u001b[0;34m(\u001b[0m\u001b[0;34m)\u001b[0m\u001b[0;34m\u001b[0m\u001b[0;34m\u001b[0m\u001b[0m\n",
            "\u001b[0;32m/usr/local/lib/python3.10/dist-packages/selenium/webdriver/remote/webdriver.py\u001b[0m in \u001b[0;36m__init__\u001b[0;34m(self, command_executor, keep_alive, file_detector, options, locator_converter, web_element_cls, client_config)\u001b[0m\n\u001b[1;32m    239\u001b[0m         \u001b[0mself\u001b[0m\u001b[0;34m.\u001b[0m\u001b[0m_authenticator_id\u001b[0m \u001b[0;34m=\u001b[0m \u001b[0;32mNone\u001b[0m\u001b[0;34m\u001b[0m\u001b[0;34m\u001b[0m\u001b[0m\n\u001b[1;32m    240\u001b[0m         \u001b[0mself\u001b[0m\u001b[0;34m.\u001b[0m\u001b[0mstart_client\u001b[0m\u001b[0;34m(\u001b[0m\u001b[0;34m)\u001b[0m\u001b[0;34m\u001b[0m\u001b[0;34m\u001b[0m\u001b[0m\n\u001b[0;32m--> 241\u001b[0;31m         \u001b[0mself\u001b[0m\u001b[0;34m.\u001b[0m\u001b[0mstart_session\u001b[0m\u001b[0;34m(\u001b[0m\u001b[0mcapabilities\u001b[0m\u001b[0;34m)\u001b[0m\u001b[0;34m\u001b[0m\u001b[0;34m\u001b[0m\u001b[0m\n\u001b[0m\u001b[1;32m    242\u001b[0m         \u001b[0mself\u001b[0m\u001b[0;34m.\u001b[0m\u001b[0m_fedcm\u001b[0m \u001b[0;34m=\u001b[0m \u001b[0mFedCM\u001b[0m\u001b[0;34m(\u001b[0m\u001b[0mself\u001b[0m\u001b[0;34m)\u001b[0m\u001b[0;34m\u001b[0m\u001b[0;34m\u001b[0m\u001b[0m\n\u001b[1;32m    243\u001b[0m \u001b[0;34m\u001b[0m\u001b[0m\n",
            "\u001b[0;32m/usr/local/lib/python3.10/dist-packages/selenium/webdriver/remote/webdriver.py\u001b[0m in \u001b[0;36mstart_session\u001b[0;34m(self, capabilities)\u001b[0m\n\u001b[1;32m    327\u001b[0m \u001b[0;34m\u001b[0m\u001b[0m\n\u001b[1;32m    328\u001b[0m         \u001b[0mcaps\u001b[0m \u001b[0;34m=\u001b[0m \u001b[0m_create_caps\u001b[0m\u001b[0;34m(\u001b[0m\u001b[0mcapabilities\u001b[0m\u001b[0;34m)\u001b[0m\u001b[0;34m\u001b[0m\u001b[0;34m\u001b[0m\u001b[0m\n\u001b[0;32m--> 329\u001b[0;31m         \u001b[0mresponse\u001b[0m \u001b[0;34m=\u001b[0m \u001b[0mself\u001b[0m\u001b[0;34m.\u001b[0m\u001b[0mexecute\u001b[0m\u001b[0;34m(\u001b[0m\u001b[0mCommand\u001b[0m\u001b[0;34m.\u001b[0m\u001b[0mNEW_SESSION\u001b[0m\u001b[0;34m,\u001b[0m \u001b[0mcaps\u001b[0m\u001b[0;34m)\u001b[0m\u001b[0;34m[\u001b[0m\u001b[0;34m\"value\"\u001b[0m\u001b[0;34m]\u001b[0m\u001b[0;34m\u001b[0m\u001b[0;34m\u001b[0m\u001b[0m\n\u001b[0m\u001b[1;32m    330\u001b[0m         \u001b[0mself\u001b[0m\u001b[0;34m.\u001b[0m\u001b[0msession_id\u001b[0m \u001b[0;34m=\u001b[0m \u001b[0mresponse\u001b[0m\u001b[0;34m.\u001b[0m\u001b[0mget\u001b[0m\u001b[0;34m(\u001b[0m\u001b[0;34m\"sessionId\"\u001b[0m\u001b[0;34m)\u001b[0m\u001b[0;34m\u001b[0m\u001b[0;34m\u001b[0m\u001b[0m\n\u001b[1;32m    331\u001b[0m         \u001b[0mself\u001b[0m\u001b[0;34m.\u001b[0m\u001b[0mcaps\u001b[0m \u001b[0;34m=\u001b[0m \u001b[0mresponse\u001b[0m\u001b[0;34m.\u001b[0m\u001b[0mget\u001b[0m\u001b[0;34m(\u001b[0m\u001b[0;34m\"capabilities\"\u001b[0m\u001b[0;34m)\u001b[0m\u001b[0;34m\u001b[0m\u001b[0;34m\u001b[0m\u001b[0m\n",
            "\u001b[0;32m/usr/local/lib/python3.10/dist-packages/selenium/webdriver/remote/webdriver.py\u001b[0m in \u001b[0;36mexecute\u001b[0;34m(self, driver_command, params)\u001b[0m\n\u001b[1;32m    382\u001b[0m         \u001b[0mresponse\u001b[0m \u001b[0;34m=\u001b[0m \u001b[0mself\u001b[0m\u001b[0;34m.\u001b[0m\u001b[0mcommand_executor\u001b[0m\u001b[0;34m.\u001b[0m\u001b[0mexecute\u001b[0m\u001b[0;34m(\u001b[0m\u001b[0mdriver_command\u001b[0m\u001b[0;34m,\u001b[0m \u001b[0mparams\u001b[0m\u001b[0;34m)\u001b[0m\u001b[0;34m\u001b[0m\u001b[0;34m\u001b[0m\u001b[0m\n\u001b[1;32m    383\u001b[0m         \u001b[0;32mif\u001b[0m \u001b[0mresponse\u001b[0m\u001b[0;34m:\u001b[0m\u001b[0;34m\u001b[0m\u001b[0;34m\u001b[0m\u001b[0m\n\u001b[0;32m--> 384\u001b[0;31m             \u001b[0mself\u001b[0m\u001b[0;34m.\u001b[0m\u001b[0merror_handler\u001b[0m\u001b[0;34m.\u001b[0m\u001b[0mcheck_response\u001b[0m\u001b[0;34m(\u001b[0m\u001b[0mresponse\u001b[0m\u001b[0;34m)\u001b[0m\u001b[0;34m\u001b[0m\u001b[0;34m\u001b[0m\u001b[0m\n\u001b[0m\u001b[1;32m    385\u001b[0m             \u001b[0mresponse\u001b[0m\u001b[0;34m[\u001b[0m\u001b[0;34m\"value\"\u001b[0m\u001b[0;34m]\u001b[0m \u001b[0;34m=\u001b[0m \u001b[0mself\u001b[0m\u001b[0;34m.\u001b[0m\u001b[0m_unwrap_value\u001b[0m\u001b[0;34m(\u001b[0m\u001b[0mresponse\u001b[0m\u001b[0;34m.\u001b[0m\u001b[0mget\u001b[0m\u001b[0;34m(\u001b[0m\u001b[0;34m\"value\"\u001b[0m\u001b[0;34m,\u001b[0m \u001b[0;32mNone\u001b[0m\u001b[0;34m)\u001b[0m\u001b[0;34m)\u001b[0m\u001b[0;34m\u001b[0m\u001b[0;34m\u001b[0m\u001b[0m\n\u001b[1;32m    386\u001b[0m             \u001b[0;32mreturn\u001b[0m \u001b[0mresponse\u001b[0m\u001b[0;34m\u001b[0m\u001b[0;34m\u001b[0m\u001b[0m\n",
            "\u001b[0;32m/usr/local/lib/python3.10/dist-packages/selenium/webdriver/remote/errorhandler.py\u001b[0m in \u001b[0;36mcheck_response\u001b[0;34m(self, response)\u001b[0m\n\u001b[1;32m    230\u001b[0m                 \u001b[0malert_text\u001b[0m \u001b[0;34m=\u001b[0m \u001b[0mvalue\u001b[0m\u001b[0;34m[\u001b[0m\u001b[0;34m\"alert\"\u001b[0m\u001b[0;34m]\u001b[0m\u001b[0;34m.\u001b[0m\u001b[0mget\u001b[0m\u001b[0;34m(\u001b[0m\u001b[0;34m\"text\"\u001b[0m\u001b[0;34m)\u001b[0m\u001b[0;34m\u001b[0m\u001b[0;34m\u001b[0m\u001b[0m\n\u001b[1;32m    231\u001b[0m             \u001b[0;32mraise\u001b[0m \u001b[0mexception_class\u001b[0m\u001b[0;34m(\u001b[0m\u001b[0mmessage\u001b[0m\u001b[0;34m,\u001b[0m \u001b[0mscreen\u001b[0m\u001b[0;34m,\u001b[0m \u001b[0mstacktrace\u001b[0m\u001b[0;34m,\u001b[0m \u001b[0malert_text\u001b[0m\u001b[0;34m)\u001b[0m  \u001b[0;31m# type: ignore[call-arg]  # mypy is not smart enough here\u001b[0m\u001b[0;34m\u001b[0m\u001b[0;34m\u001b[0m\u001b[0m\n\u001b[0;32m--> 232\u001b[0;31m         \u001b[0;32mraise\u001b[0m \u001b[0mexception_class\u001b[0m\u001b[0;34m(\u001b[0m\u001b[0mmessage\u001b[0m\u001b[0;34m,\u001b[0m \u001b[0mscreen\u001b[0m\u001b[0;34m,\u001b[0m \u001b[0mstacktrace\u001b[0m\u001b[0;34m)\u001b[0m\u001b[0;34m\u001b[0m\u001b[0;34m\u001b[0m\u001b[0m\n\u001b[0m",
            "\u001b[0;31mSessionNotCreatedException\u001b[0m: Message: session not created: Chrome failed to start: exited normally.\n  (session not created: DevToolsActivePort file doesn't exist)\n  (The process started from chrome location /root/.cache/selenium/chrome/linux64/131.0.6778.87/chrome is no longer running, so ChromeDriver is assuming that Chrome has crashed.)\nStacktrace:\n#0 0x5c2c8da9234a <unknown>\n#1 0x5c2c8d5a86e0 <unknown>\n#2 0x5c2c8d5dfdc8 <unknown>\n#3 0x5c2c8d5db926 <unknown>\n#4 0x5c2c8d6276f6 <unknown>\n#5 0x5c2c8d626d46 <unknown>\n#6 0x5c2c8d61b203 <unknown>\n#7 0x5c2c8d5e9cc0 <unknown>\n#8 0x5c2c8d5eac9e <unknown>\n#9 0x5c2c8da5fd3b <unknown>\n#10 0x5c2c8da63cc2 <unknown>\n#11 0x5c2c8da4cb6c <unknown>\n#12 0x5c2c8da64837 <unknown>\n#13 0x5c2c8da3210f <unknown>\n#14 0x5c2c8da815a8 <unknown>\n#15 0x5c2c8da81770 <unknown>\n#16 0x5c2c8da911c6 <unknown>\n#17 0x7b00b7175ac3 <unknown>\n"
          ]
        }
      ],
      "source": [
        "#Connecting to Commcare\n",
        "load_dotenv('id_cc.env')\n",
        "email = os.getenv('EMAIL')\n",
        "password_cc = os.getenv('PASSWORD')\n",
        "\n",
        "#Defining the driver\n",
        "options = Options()\n",
        "options.add_argument(\"start-maximized\")\n",
        "driver = webdriver.Chrome(options=options)\n",
        "driver.implicitly_wait(1000)\n",
        "\n",
        "#Creating login function\n",
        "def education_beneficiaries():\n",
        "    driver.get(\n",
        "        'https://www.commcarehq.org/a/caris-test/data/export/custom/new/case/download/d5a1d9e3e30cf72fb48f19ac18a7ec67/'\n",
        "    )\n",
        "    driver.find_element(\"xpath\", '//*[@id=\"id_auth-username\"]').send_keys(email)\n",
        "    driver.find_element(\"xpath\", '//*[@id=\"id_auth-password\"]').send_keys(password_cc)\n",
        "    driver.find_element(By.CSS_SELECTOR, 'button[type=submit]').click()\n",
        "\n",
        "#Muso beneficiaries\n",
        "education_beneficiaries()\n",
        "\n",
        "#Download the database \"beneficiaries\"\n",
        "driver.find_element(\"xpath\", '//*[@id=\"download-export-form\"]/form/div[2]/div/div[2]/div[1]/button/span[1]').click()\n",
        "driver.find_element(\"xpath\", '//*[@id=\"download-progress\"]/div/div/div[2]/div[1]/form/a/span[1]').click()\n",
        "\n",
        "#-----------------------------------------------------------------------------------------------------------------------\n",
        "\n",
        "#Groupes d'éducation\n",
        "def education_groups():\n",
        "    driver.get(\n",
        "        'https://www.commcarehq.org/a/caris-test/data/export/custom/new/case/download/5cd1b95bf4b9771709f3d3d5b2efbb6e/'\n",
        "    )\n",
        "\n",
        "education_groups()\n",
        "\n",
        "#Download the database \"Household count\"\n",
        "driver.find_element(\"xpath\", '//*[@id=\"download-export-form\"]/form/div[2]/div/div[2]/div[1]/button/span[1]').click()\n",
        "driver.find_element(\"xpath\", '//*[@id=\"download-progress\"]/div/div/div[2]/div[1]/form/a/span[1]').click()\n",
        "\n",
        "#-----------------------------------------------------------------------------------------------------------------------\n",
        "\n",
        "#Session éducation\n",
        "def education_session():\n",
        "    driver.get(\n",
        "        'https://www.commcarehq.org/a/caris-test/data/export/custom/new/case/download/4a7aef979ea6b067e3c53ad097757b8f/'\n",
        "    )\n",
        "\n",
        "education_session()\n",
        "\n",
        "#Download the database \"Household count\"\n",
        "driver.find_element(\"xpath\", '//*[@id=\"download-export-form\"]/form/div[2]/div/div[2]/div[1]/button/span[1]').click()\n",
        "driver.find_element(\"xpath\", '//*[@id=\"download-progress\"]/div/div/div[2]/div[1]/form/a/span[1]').click()"
      ]
    },
    {
      "cell_type": "markdown",
      "id": "743baef2",
      "metadata": {
        "id": "743baef2"
      },
      "source": [
        "### Importing datasets"
      ]
    },
    {
      "cell_type": "code",
      "execution_count": null,
      "id": "ce22d8e7",
      "metadata": {
        "id": "ce22d8e7"
      },
      "outputs": [],
      "source": [
        "session1 = pd.read_excel(f\"C:/Users/Davidson Adrien/Downloads/education_presence {str(datetime.today().strftime('%Y-%m-%d'))}.xlsx\", parse_dates = True)\n",
        "groupe = pd.read_excel(f\"C:/Users/Davidson Adrien/Downloads/education_groupes_latest {str(datetime.today().strftime('%Y-%m-%d'))}.xlsx\", parse_dates = True)\n",
        "members = pd.read_excel(f\"C:/Users/Davidson Adrien/Downloads/education_members (created 2022-03-30) {str(datetime.today().strftime('%Y-%m-%d'))}.xlsx\", parse_dates = True)"
      ]
    },
    {
      "cell_type": "markdown",
      "id": "98301f09",
      "metadata": {
        "id": "98301f09"
      },
      "source": [
        "## Data wrangling"
      ]
    },
    {
      "cell_type": "code",
      "execution_count": null,
      "id": "925dd298",
      "metadata": {
        "id": "925dd298"
      },
      "outputs": [],
      "source": [
        "session = session1.copy()\n",
        "\n",
        "#===========================================================================================================================\n",
        "session.drop(['number', 'closed_by_username', 'closed_date', 'last_modified_by_user_username', 'last_modified_date',\n",
        "              'opened_by_username', 'opened_date', 'owner_name', 'case_link', 'case_type', 'closed_by_user_id',\n",
        "              'external_id', 'last_modified_by_user_id', 'opened_by_user_id', 'owner_id', 'server_last_modified_date',\n",
        "              'state', 'chlore_or_abendazole'], axis = 1, inplace = True)\n",
        "\n",
        "#==========================================================================================================================\n",
        "group = groupe[['caseid', 'group_commune', 'groupe_type', 'closed']]\n",
        "member = members[['caseid', 'dob', 'age', 'sexe', 'closed']]\n",
        "\n",
        "#==========================================================================================================================\n",
        "\n",
        "member.rename(columns = {'caseid': 'member_case_id',\n",
        "                        'closed': 'closed_member',\n",
        "                        'indices.education_groupes' : 'group_caseid'}, inplace = True)\n",
        "session.rename(columns = {'indices.education_groupes': 'group_caseid',\n",
        "                         'closed': 'closed_session'}, inplace = True)\n",
        "group.rename(columns = {'caseid': 'group_caseid',\n",
        "                       'closed': 'closed_group'}, inplace = True)\n",
        "group.replace(['Les Cayes'], ['Cayes'], inplace = True)\n",
        "#======================================================================================================================\n",
        "\n",
        "session = session.merge(member, on = 'member_case_id', how = 'left').merge(group, on = 'group_caseid', how = 'left')\n",
        "session.loc[(session['sexe'] == 0), 'sexe'] = 'Female'\n",
        "session.loc[(session['sexe'] == 1), 'sexe'] = 'Male'\n"
      ]
    },
    {
      "cell_type": "code",
      "execution_count": null,
      "id": "d600c58b",
      "metadata": {
        "id": "d600c58b",
        "outputId": "730367d6-9185-47df-995a-f41db69d5b49"
      },
      "outputs": [
        {
          "data": {
            "text/plain": [
              "Index(['caseid', 'name', 'date_de_presence', 'is_member_present',\n",
              "       'member_case_id', 'group_caseid', 'closed_session', 'dob', 'age',\n",
              "       'sexe', 'closed_member', 'group_commune', 'groupe_type',\n",
              "       'closed_group'],\n",
              "      dtype='object')"
            ]
          },
          "execution_count": 7,
          "metadata": {},
          "output_type": "execute_result"
        }
      ],
      "source": [
        "session.columns"
      ]
    },
    {
      "cell_type": "code",
      "execution_count": null,
      "id": "6b19dac6",
      "metadata": {
        "id": "6b19dac6",
        "outputId": "62cb0880-6a8f-4029-f6e7-8260a737e609"
      },
      "outputs": [
        {
          "data": {
            "text/plain": [
              "0       12 days 13:55:48.665297741\n",
              "1       10 days 19:01:21.314168377\n",
              "2       12 days 05:31:10.225872690\n",
              "3       13 days 17:08:00.492813141\n",
              "4       10 days 08:06:53.963039014\n",
              "                   ...            \n",
              "31300   10 days 05:52:51.252566735\n",
              "31301   10 days 05:52:51.252566735\n",
              "31302   10 days 05:52:51.252566735\n",
              "31303   13 days 05:53:50.390143737\n",
              "31304   10 days 05:52:51.252566735\n",
              "Name: age_new, Length: 31305, dtype: timedelta64[ns]"
            ]
          },
          "execution_count": 8,
          "metadata": {},
          "output_type": "execute_result"
        }
      ],
      "source": [
        "# session['dob'].replace(\"NaT\", \"0000-00-00\", inplace = True)\n",
        "session['dob'] = pd.to_datetime(session['dob'], errors = 'coerce')\n",
        "\n",
        "def get_age(date):\n",
        "    if pd.notna(date):\n",
        "        return (parse(end_date) - date)/365.25\n",
        "    else:\n",
        "        return \"---\"\n",
        "\n",
        "session['age_new'] = session['dob'].map(get_age)\n",
        "session['age_new'] = session['age'].where(session['age_new'] == \"---\", other=session['age_new'])\n",
        "session['age_new'].fillna(0, inplace=True)\n",
        "session['age_new']"
      ]
    },
    {
      "cell_type": "code",
      "execution_count": null,
      "id": "13020ffb",
      "metadata": {
        "id": "13020ffb"
      },
      "outputs": [],
      "source": [
        "session['age_new'] = pd.to_numeric(session['age_new'], errors=\"coerce\")"
      ]
    },
    {
      "cell_type": "code",
      "execution_count": null,
      "id": "c8d6a102",
      "metadata": {
        "id": "c8d6a102",
        "outputId": "db1f547b-fac2-4f4a-a811-9509b6b71d06"
      },
      "outputs": [
        {
          "data": {
            "text/plain": [
              "0        other\n",
              "1        other\n",
              "2        other\n",
              "3        other\n",
              "4        other\n",
              "         ...  \n",
              "31300    other\n",
              "31301    other\n",
              "31302    other\n",
              "31303    other\n",
              "31304    other\n",
              "Name: age_range, Length: 31305, dtype: object"
            ]
          },
          "execution_count": 10,
          "metadata": {},
          "output_type": "execute_result"
        }
      ],
      "source": [
        "def age_range(age):\n",
        "    if age in range(10, 15):\n",
        "        return '10 - 14'\n",
        "    else:\n",
        "        return 'other'\n",
        "\n",
        "session['age_range'] = session['age_new'].map(age_range)\n",
        "session['age_range']"
      ]
    },
    {
      "cell_type": "code",
      "execution_count": null,
      "id": "53086d2b",
      "metadata": {
        "id": "53086d2b",
        "outputId": "999f9892-c515-47f8-ffe6-493416d26faf"
      },
      "outputs": [
        {
          "data": {
            "text/plain": [
              "array(['other'], dtype=object)"
            ]
          },
          "execution_count": 11,
          "metadata": {},
          "output_type": "execute_result"
        }
      ],
      "source": [
        "session['age_range'].unique()"
      ]
    },
    {
      "cell_type": "code",
      "execution_count": null,
      "id": "2f811b17",
      "metadata": {
        "id": "2f811b17"
      },
      "outputs": [],
      "source": [
        "session.to_excel(\"Education_FY24Q2_04122024.xlsx\", index = False)"
      ]
    },
    {
      "cell_type": "code",
      "execution_count": null,
      "id": "fa6963ae",
      "metadata": {
        "id": "fa6963ae"
      },
      "outputs": [],
      "source": [
        "session_fy23 = session[(session['date_de_presence'] >= start_date) & (session['date_de_presence'] <= end_date)]"
      ]
    },
    {
      "cell_type": "code",
      "execution_count": null,
      "id": "49c91efc",
      "metadata": {
        "id": "49c91efc"
      },
      "outputs": [],
      "source": [
        "comm = session_fy23[session_fy23['groupe_type'] == 'community_club']\n",
        "school = session_fy23[session_fy23['groupe_type'] == 'school']"
      ]
    },
    {
      "cell_type": "markdown",
      "id": "0a6cc788",
      "metadata": {
        "id": "0a6cc788"
      },
      "source": [
        "### Community clubs information"
      ]
    },
    {
      "cell_type": "code",
      "execution_count": null,
      "id": "8441fd45",
      "metadata": {
        "id": "8441fd45",
        "outputId": "fbbef563-aff7-402e-93bb-f2b0abc9596a"
      },
      "outputs": [
        {
          "data": {
            "text/plain": [
              "52107"
            ]
          },
          "execution_count": 19,
          "metadata": {},
          "output_type": "execute_result"
        },
        {
          "data": {
            "text/plain": [
              "43665"
            ]
          },
          "execution_count": 19,
          "metadata": {},
          "output_type": "execute_result"
        }
      ],
      "source": [
        "comm_pres = comm[comm['is_member_present'] == 1]\n",
        "\n",
        "comm.shape[0]\n",
        "comm_pres.shape[0]"
      ]
    },
    {
      "cell_type": "code",
      "execution_count": null,
      "id": "b9c699ee",
      "metadata": {
        "id": "b9c699ee"
      },
      "outputs": [],
      "source": []
    },
    {
      "cell_type": "code",
      "execution_count": null,
      "id": "f2341cbd",
      "metadata": {
        "id": "f2341cbd"
      },
      "outputs": [],
      "source": []
    },
    {
      "cell_type": "code",
      "execution_count": null,
      "id": "8551f9db",
      "metadata": {
        "id": "8551f9db",
        "outputId": "dfac562e-9446-498f-cdba-0d183657c358"
      },
      "outputs": [
        {
          "data": {
            "text/plain": [
              "array(['community_club', 'school'], dtype=object)"
            ]
          },
          "execution_count": 16,
          "metadata": {},
          "output_type": "execute_result"
        }
      ],
      "source": [
        "session_fy23.groupe_type.unique()"
      ]
    },
    {
      "cell_type": "code",
      "execution_count": null,
      "id": "225f8c2a",
      "metadata": {
        "id": "225f8c2a"
      },
      "outputs": [],
      "source": []
    },
    {
      "cell_type": "code",
      "execution_count": null,
      "id": "d0e65378",
      "metadata": {
        "id": "d0e65378"
      },
      "outputs": [],
      "source": []
    },
    {
      "cell_type": "code",
      "execution_count": null,
      "id": "3baf22d1",
      "metadata": {
        "id": "3baf22d1",
        "outputId": "b08a8adc-05ac-42fc-bfe9-88e4ef962002"
      },
      "outputs": [
        {
          "data": {
            "text/html": [
              "<div>\n",
              "<style scoped>\n",
              "    .dataframe tbody tr th:only-of-type {\n",
              "        vertical-align: middle;\n",
              "    }\n",
              "\n",
              "    .dataframe tbody tr th {\n",
              "        vertical-align: top;\n",
              "    }\n",
              "\n",
              "    .dataframe thead th {\n",
              "        text-align: right;\n",
              "    }\n",
              "</style>\n",
              "<table border=\"1\" class=\"dataframe\">\n",
              "  <thead>\n",
              "    <tr style=\"text-align: right;\">\n",
              "      <th></th>\n",
              "      <th>group_commune</th>\n",
              "      <th>member_case_id</th>\n",
              "      <th>presence</th>\n",
              "      <th>dob</th>\n",
              "      <th>age</th>\n",
              "      <th>sexe</th>\n",
              "      <th>status</th>\n",
              "      <th>age_range</th>\n",
              "    </tr>\n",
              "  </thead>\n",
              "  <tbody>\n",
              "    <tr>\n",
              "      <th>0</th>\n",
              "      <td>Cap-Haitien</td>\n",
              "      <td>0c08b71d373344689193b463e8661498</td>\n",
              "      <td>9</td>\n",
              "      <td>2010-09-18</td>\n",
              "      <td>12.0</td>\n",
              "      <td>Female</td>\n",
              "      <td>test not indicated</td>\n",
              "      <td>10 - 14</td>\n",
              "    </tr>\n",
              "    <tr>\n",
              "      <th>1</th>\n",
              "      <td>Cap-Haitien</td>\n",
              "      <td>0e11112d1a914caa9bfd7f96e45f99c5</td>\n",
              "      <td>9</td>\n",
              "      <td>2008-09-18</td>\n",
              "      <td>14.0</td>\n",
              "      <td>Female</td>\n",
              "      <td>test not indicated</td>\n",
              "      <td>10 - 14</td>\n",
              "    </tr>\n",
              "    <tr>\n",
              "      <th>2</th>\n",
              "      <td>Cap-Haitien</td>\n",
              "      <td>0e8fa9aa856f4b15b92d677138203fdc</td>\n",
              "      <td>9</td>\n",
              "      <td>2010-09-18</td>\n",
              "      <td>12.0</td>\n",
              "      <td>Female</td>\n",
              "      <td>test not indicated</td>\n",
              "      <td>10 - 14</td>\n",
              "    </tr>\n",
              "    <tr>\n",
              "      <th>3</th>\n",
              "      <td>Cap-Haitien</td>\n",
              "      <td>0ed91047f6844a718148bc81c5ce9737</td>\n",
              "      <td>9</td>\n",
              "      <td>2010-09-18</td>\n",
              "      <td>12.0</td>\n",
              "      <td>Female</td>\n",
              "      <td>test not indicated</td>\n",
              "      <td>10 - 14</td>\n",
              "    </tr>\n",
              "    <tr>\n",
              "      <th>4</th>\n",
              "      <td>Cap-Haitien</td>\n",
              "      <td>15dc64ef7a3d4a86b03c49213600b46c</td>\n",
              "      <td>9</td>\n",
              "      <td>2012-09-17</td>\n",
              "      <td>10.0</td>\n",
              "      <td>Male</td>\n",
              "      <td>test not indicated</td>\n",
              "      <td>10 - 14</td>\n",
              "    </tr>\n",
              "  </tbody>\n",
              "</table>\n",
              "</div>"
            ],
            "text/plain": [
              "  group_commune                    member_case_id  presence         dob   age  \\\n",
              "0   Cap-Haitien  0c08b71d373344689193b463e8661498         9  2010-09-18  12.0   \n",
              "1   Cap-Haitien  0e11112d1a914caa9bfd7f96e45f99c5         9  2008-09-18  14.0   \n",
              "2   Cap-Haitien  0e8fa9aa856f4b15b92d677138203fdc         9  2010-09-18  12.0   \n",
              "3   Cap-Haitien  0ed91047f6844a718148bc81c5ce9737         9  2010-09-18  12.0   \n",
              "4   Cap-Haitien  15dc64ef7a3d4a86b03c49213600b46c         9  2012-09-17  10.0   \n",
              "\n",
              "     sexe              status age_range  \n",
              "0  Female  test not indicated   10 - 14  \n",
              "1  Female  test not indicated   10 - 14  \n",
              "2  Female  test not indicated   10 - 14  \n",
              "3  Female  test not indicated   10 - 14  \n",
              "4    Male  test not indicated   10 - 14  "
            ]
          },
          "execution_count": 17,
          "metadata": {},
          "output_type": "execute_result"
        }
      ],
      "source": [
        "comprehensive1 = comprehensive.groupby(['group_commune', 'member_case_id'])['is_member_present'].count()\n",
        "comprehensive1 = comprehensive1.reset_index()\n",
        "comprehensive1.rename(columns = {'is_member_present': 'presence'}, inplace = True)\n",
        "comprehensive1 = comprehensive1.merge(comprehensive[['member_case_id', 'dob', 'age', 'sexe', 'status']], on = 'member_case_id', how = 'left')\n",
        "comprehensive1['age'] = pd.to_numeric(comprehensive1['age'], errors = 'coerce')\n",
        "comprehensive1 = comprehensive1.drop_duplicates('member_case_id').reset_index(drop=True)\n",
        "comprehensive1 = comprehensive1[comprehensive1['presence'] >= 8]\n",
        "\n",
        "#=================================================================================================================\n",
        "\n",
        "def age_range(row):\n",
        "    if row['age'] < 1:\n",
        "        return '< 1'\n",
        "    elif row['age'] in range(1, 5):\n",
        "        return '1 - 4'\n",
        "    elif row['age'] in range(5, 10):\n",
        "        return '5 - 9'\n",
        "    elif row['age'] in range(10, 15):\n",
        "        return '10 - 14'\n",
        "    elif row['age'] in range(15, 18):\n",
        "        return '15 - 17'\n",
        "    elif row['age'] in range(18, 21):\n",
        "        return '18 - 20'\n",
        "    else:\n",
        "        return '21+'\n",
        "\n",
        "comprehensive1['age_range'] = comprehensive1.apply(age_range, axis =1)\n",
        "#=================================================================================================================\n",
        "#=================================================================================================================\n",
        "comprehensive1.head()"
      ]
    },
    {
      "cell_type": "code",
      "execution_count": null,
      "id": "8c881c54",
      "metadata": {
        "id": "8c881c54"
      },
      "outputs": [],
      "source": [
        "comprehensive1.to_excel('Beneficiaires_CC_Q2FY23_04202023.xlsx')"
      ]
    },
    {
      "cell_type": "code",
      "execution_count": null,
      "id": "f51237cd",
      "metadata": {
        "id": "f51237cd",
        "outputId": "a618b814-0f04-4895-eb13-73509c7ae4d1"
      },
      "outputs": [
        {
          "data": {
            "text/html": [
              "<div>\n",
              "<style scoped>\n",
              "    .dataframe tbody tr th:only-of-type {\n",
              "        vertical-align: middle;\n",
              "    }\n",
              "\n",
              "    .dataframe tbody tr th {\n",
              "        vertical-align: top;\n",
              "    }\n",
              "\n",
              "    .dataframe thead tr th {\n",
              "        text-align: left;\n",
              "    }\n",
              "</style>\n",
              "<table border=\"1\" class=\"dataframe\">\n",
              "  <thead>\n",
              "    <tr>\n",
              "      <th>sexe</th>\n",
              "      <th>group_commune</th>\n",
              "      <th colspan=\"6\" halign=\"left\">Female</th>\n",
              "      <th colspan=\"6\" halign=\"left\">Male</th>\n",
              "    </tr>\n",
              "    <tr>\n",
              "      <th>age_range</th>\n",
              "      <th></th>\n",
              "      <th>&lt; 1</th>\n",
              "      <th>1 - 4</th>\n",
              "      <th>5 - 9</th>\n",
              "      <th>10 - 14</th>\n",
              "      <th>15 - 17</th>\n",
              "      <th>18 - 20</th>\n",
              "      <th>&lt; 1</th>\n",
              "      <th>1 - 4</th>\n",
              "      <th>5 - 9</th>\n",
              "      <th>10 - 14</th>\n",
              "      <th>15 - 17</th>\n",
              "      <th>18 - 20</th>\n",
              "    </tr>\n",
              "  </thead>\n",
              "  <tbody>\n",
              "    <tr>\n",
              "      <th>0</th>\n",
              "      <td>Cap-Haitien</td>\n",
              "      <td>0.0</td>\n",
              "      <td>0.0</td>\n",
              "      <td>1</td>\n",
              "      <td>16</td>\n",
              "      <td>3</td>\n",
              "      <td>0</td>\n",
              "      <td>0.0</td>\n",
              "      <td>0.0</td>\n",
              "      <td>0</td>\n",
              "      <td>6</td>\n",
              "      <td>1</td>\n",
              "      <td>0</td>\n",
              "    </tr>\n",
              "    <tr>\n",
              "      <th>1</th>\n",
              "      <td>Cap-Haïtien</td>\n",
              "      <td>0.0</td>\n",
              "      <td>0.0</td>\n",
              "      <td>19</td>\n",
              "      <td>97</td>\n",
              "      <td>53</td>\n",
              "      <td>0</td>\n",
              "      <td>0.0</td>\n",
              "      <td>0.0</td>\n",
              "      <td>12</td>\n",
              "      <td>86</td>\n",
              "      <td>33</td>\n",
              "      <td>0</td>\n",
              "    </tr>\n",
              "    <tr>\n",
              "      <th>2</th>\n",
              "      <td>Cayes</td>\n",
              "      <td>0.0</td>\n",
              "      <td>0.0</td>\n",
              "      <td>39</td>\n",
              "      <td>270</td>\n",
              "      <td>197</td>\n",
              "      <td>0</td>\n",
              "      <td>0.0</td>\n",
              "      <td>0.0</td>\n",
              "      <td>19</td>\n",
              "      <td>117</td>\n",
              "      <td>55</td>\n",
              "      <td>0</td>\n",
              "    </tr>\n",
              "    <tr>\n",
              "      <th>3</th>\n",
              "      <td>Delmas</td>\n",
              "      <td>0.0</td>\n",
              "      <td>0.0</td>\n",
              "      <td>8</td>\n",
              "      <td>47</td>\n",
              "      <td>9</td>\n",
              "      <td>0</td>\n",
              "      <td>0.0</td>\n",
              "      <td>0.0</td>\n",
              "      <td>5</td>\n",
              "      <td>31</td>\n",
              "      <td>9</td>\n",
              "      <td>0</td>\n",
              "    </tr>\n",
              "    <tr>\n",
              "      <th>4</th>\n",
              "      <td>Dondon</td>\n",
              "      <td>0.0</td>\n",
              "      <td>0.0</td>\n",
              "      <td>1</td>\n",
              "      <td>5</td>\n",
              "      <td>0</td>\n",
              "      <td>0</td>\n",
              "      <td>0.0</td>\n",
              "      <td>0.0</td>\n",
              "      <td>3</td>\n",
              "      <td>11</td>\n",
              "      <td>0</td>\n",
              "      <td>0</td>\n",
              "    </tr>\n",
              "    <tr>\n",
              "      <th>5</th>\n",
              "      <td>Ducis</td>\n",
              "      <td>0.0</td>\n",
              "      <td>0.0</td>\n",
              "      <td>22</td>\n",
              "      <td>77</td>\n",
              "      <td>31</td>\n",
              "      <td>0</td>\n",
              "      <td>0.0</td>\n",
              "      <td>0.0</td>\n",
              "      <td>18</td>\n",
              "      <td>42</td>\n",
              "      <td>11</td>\n",
              "      <td>0</td>\n",
              "    </tr>\n",
              "    <tr>\n",
              "      <th>6</th>\n",
              "      <td>Gonaïves</td>\n",
              "      <td>0.0</td>\n",
              "      <td>0.0</td>\n",
              "      <td>6</td>\n",
              "      <td>19</td>\n",
              "      <td>4</td>\n",
              "      <td>0</td>\n",
              "      <td>0.0</td>\n",
              "      <td>0.0</td>\n",
              "      <td>4</td>\n",
              "      <td>14</td>\n",
              "      <td>1</td>\n",
              "      <td>0</td>\n",
              "    </tr>\n",
              "    <tr>\n",
              "      <th>7</th>\n",
              "      <td>Gros-Morne</td>\n",
              "      <td>0.0</td>\n",
              "      <td>0.0</td>\n",
              "      <td>1</td>\n",
              "      <td>12</td>\n",
              "      <td>10</td>\n",
              "      <td>0</td>\n",
              "      <td>0.0</td>\n",
              "      <td>0.0</td>\n",
              "      <td>0</td>\n",
              "      <td>16</td>\n",
              "      <td>5</td>\n",
              "      <td>0</td>\n",
              "    </tr>\n",
              "    <tr>\n",
              "      <th>8</th>\n",
              "      <td>Guilgo</td>\n",
              "      <td>0.0</td>\n",
              "      <td>0.0</td>\n",
              "      <td>0</td>\n",
              "      <td>35</td>\n",
              "      <td>8</td>\n",
              "      <td>0</td>\n",
              "      <td>0.0</td>\n",
              "      <td>0.0</td>\n",
              "      <td>0</td>\n",
              "      <td>6</td>\n",
              "      <td>6</td>\n",
              "      <td>0</td>\n",
              "    </tr>\n",
              "    <tr>\n",
              "      <th>9</th>\n",
              "      <td>Jérémie</td>\n",
              "      <td>0.0</td>\n",
              "      <td>0.0</td>\n",
              "      <td>6</td>\n",
              "      <td>63</td>\n",
              "      <td>25</td>\n",
              "      <td>0</td>\n",
              "      <td>0.0</td>\n",
              "      <td>0.0</td>\n",
              "      <td>5</td>\n",
              "      <td>54</td>\n",
              "      <td>12</td>\n",
              "      <td>0</td>\n",
              "    </tr>\n",
              "    <tr>\n",
              "      <th>10</th>\n",
              "      <td>Limbé</td>\n",
              "      <td>0.0</td>\n",
              "      <td>0.0</td>\n",
              "      <td>14</td>\n",
              "      <td>93</td>\n",
              "      <td>15</td>\n",
              "      <td>0</td>\n",
              "      <td>0.0</td>\n",
              "      <td>0.0</td>\n",
              "      <td>18</td>\n",
              "      <td>78</td>\n",
              "      <td>9</td>\n",
              "      <td>0</td>\n",
              "    </tr>\n",
              "    <tr>\n",
              "      <th>11</th>\n",
              "      <td>Port-Salut</td>\n",
              "      <td>0.0</td>\n",
              "      <td>0.0</td>\n",
              "      <td>12</td>\n",
              "      <td>295</td>\n",
              "      <td>144</td>\n",
              "      <td>0</td>\n",
              "      <td>0.0</td>\n",
              "      <td>0.0</td>\n",
              "      <td>0</td>\n",
              "      <td>28</td>\n",
              "      <td>16</td>\n",
              "      <td>0</td>\n",
              "    </tr>\n",
              "    <tr>\n",
              "      <th>12</th>\n",
              "      <td>Port-au-Prince</td>\n",
              "      <td>0.0</td>\n",
              "      <td>0.0</td>\n",
              "      <td>10</td>\n",
              "      <td>96</td>\n",
              "      <td>53</td>\n",
              "      <td>0</td>\n",
              "      <td>0.0</td>\n",
              "      <td>0.0</td>\n",
              "      <td>5</td>\n",
              "      <td>37</td>\n",
              "      <td>6</td>\n",
              "      <td>0</td>\n",
              "    </tr>\n",
              "    <tr>\n",
              "      <th>13</th>\n",
              "      <td>Tabarre</td>\n",
              "      <td>0.0</td>\n",
              "      <td>0.0</td>\n",
              "      <td>3</td>\n",
              "      <td>9</td>\n",
              "      <td>1</td>\n",
              "      <td>0</td>\n",
              "      <td>0.0</td>\n",
              "      <td>0.0</td>\n",
              "      <td>4</td>\n",
              "      <td>4</td>\n",
              "      <td>5</td>\n",
              "      <td>0</td>\n",
              "    </tr>\n",
              "    <tr>\n",
              "      <th>14</th>\n",
              "      <td>Total</td>\n",
              "      <td>0.0</td>\n",
              "      <td>0.0</td>\n",
              "      <td>142</td>\n",
              "      <td>1134</td>\n",
              "      <td>553</td>\n",
              "      <td>0</td>\n",
              "      <td>0.0</td>\n",
              "      <td>0.0</td>\n",
              "      <td>93</td>\n",
              "      <td>530</td>\n",
              "      <td>169</td>\n",
              "      <td>0</td>\n",
              "    </tr>\n",
              "  </tbody>\n",
              "</table>\n",
              "</div>"
            ],
            "text/plain": [
              "sexe        group_commune Female                                     Male  \\\n",
              "age_range                    < 1 1 - 4 5 - 9 10 - 14 15 - 17 18 - 20  < 1   \n",
              "0             Cap-Haitien    0.0   0.0     1      16       3       0  0.0   \n",
              "1             Cap-Haïtien    0.0   0.0    19      97      53       0  0.0   \n",
              "2                   Cayes    0.0   0.0    39     270     197       0  0.0   \n",
              "3                  Delmas    0.0   0.0     8      47       9       0  0.0   \n",
              "4                  Dondon    0.0   0.0     1       5       0       0  0.0   \n",
              "5                   Ducis    0.0   0.0    22      77      31       0  0.0   \n",
              "6                Gonaïves    0.0   0.0     6      19       4       0  0.0   \n",
              "7              Gros-Morne    0.0   0.0     1      12      10       0  0.0   \n",
              "8                  Guilgo    0.0   0.0     0      35       8       0  0.0   \n",
              "9                 Jérémie    0.0   0.0     6      63      25       0  0.0   \n",
              "10                  Limbé    0.0   0.0    14      93      15       0  0.0   \n",
              "11             Port-Salut    0.0   0.0    12     295     144       0  0.0   \n",
              "12         Port-au-Prince    0.0   0.0    10      96      53       0  0.0   \n",
              "13                Tabarre    0.0   0.0     3       9       1       0  0.0   \n",
              "14                  Total    0.0   0.0   142    1134     553       0  0.0   \n",
              "\n",
              "sexe                                           \n",
              "age_range 1 - 4 5 - 9 10 - 14 15 - 17 18 - 20  \n",
              "0           0.0     0       6       1       0  \n",
              "1           0.0    12      86      33       0  \n",
              "2           0.0    19     117      55       0  \n",
              "3           0.0     5      31       9       0  \n",
              "4           0.0     3      11       0       0  \n",
              "5           0.0    18      42      11       0  \n",
              "6           0.0     4      14       1       0  \n",
              "7           0.0     0      16       5       0  \n",
              "8           0.0     0       6       6       0  \n",
              "9           0.0     5      54      12       0  \n",
              "10          0.0    18      78       9       0  \n",
              "11          0.0     0      28      16       0  \n",
              "12          0.0     5      37       6       0  \n",
              "13          0.0     4       4       5       0  \n",
              "14          0.0    93     530     169       0  "
            ]
          },
          "execution_count": 18,
          "metadata": {},
          "output_type": "execute_result"
        }
      ],
      "source": [
        "datim1 = pd.pivot_table(comprehensive1, values = 'member_case_id', index = 'group_commune',\n",
        "                        columns = ['sexe', 'age_range'], aggfunc = len, fill_value = 0, margins = True, margins_name = 'Total')\n",
        "\n",
        "columns = [('Female', '< 1'),\n",
        " ('Female', '1 - 4'),\n",
        " ('Female', '5 - 9'),\n",
        " ('Female', '10 - 14'),\n",
        " ('Female', '15 - 17'),\n",
        " ('Female', '18 - 20'),\n",
        " ('Male', '< 1'),\n",
        " ('Male', '1 - 4'),\n",
        " ('Male', '5 - 9'),\n",
        " ('Male', '10 - 14'),\n",
        " ('Male', '15 - 17'),\n",
        " ('Male', '18 - 20')]\n",
        "\n",
        "datim1 = datim1.reindex(columns = columns)\n",
        "datim1[('Female', '18 - 20')] = 0\n",
        "datim1[('Male', '18 - 20')] = 0\n",
        "datim1.fillna(0, inplace = True)\n",
        "datim1.reset_index(inplace = True)\n",
        "datim1"
      ]
    },
    {
      "cell_type": "code",
      "execution_count": null,
      "id": "ccc663bc",
      "metadata": {
        "id": "ccc663bc"
      },
      "outputs": [],
      "source": []
    },
    {
      "cell_type": "code",
      "execution_count": null,
      "id": "9845c8d7",
      "metadata": {
        "id": "9845c8d7"
      },
      "outputs": [],
      "source": [
        "driver.quit()"
      ]
    },
    {
      "cell_type": "code",
      "execution_count": null,
      "id": "5349f27c",
      "metadata": {
        "id": "5349f27c"
      },
      "outputs": [],
      "source": []
    }
  ],
  "metadata": {
    "kernelspec": {
      "display_name": "Python 3 (ipykernel)",
      "language": "python",
      "name": "python3"
    },
    "language_info": {
      "codemirror_mode": {
        "name": "ipython",
        "version": 3
      },
      "file_extension": ".py",
      "mimetype": "text/x-python",
      "name": "python",
      "nbconvert_exporter": "python",
      "pygments_lexer": "ipython3",
      "version": "3.9.7"
    },
    "colab": {
      "provenance": []
    }
  },
  "nbformat": 4,
  "nbformat_minor": 5
}